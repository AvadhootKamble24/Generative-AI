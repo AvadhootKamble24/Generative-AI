{
 "cells": [
  {
   "cell_type": "code",
   "execution_count": 5,
   "id": "f8927653",
   "metadata": {},
   "outputs": [],
   "source": [
    "from langchain_openai import ChatOpenAI\n",
    "from langchain_core.tools import tool\n",
    "import requests\n",
    "from dotenv import load_dotenv"
   ]
  },
  {
   "cell_type": "code",
   "execution_count": null,
   "id": "ea57920a",
   "metadata": {},
   "outputs": [],
   "source": [
    "# search_tool\n",
    "from langchain_community.tools import DuckDuckGoSearchRun\n",
    "search_tool=DuckDuckGoSearchRun()"
   ]
  },
  {
   "cell_type": "code",
   "execution_count": 6,
   "id": "1e749d3b",
   "metadata": {},
   "outputs": [],
   "source": [
    "import os\n",
    "api_key=os.getenv('WEATHER_STACK')"
   ]
  },
  {
   "cell_type": "code",
   "execution_count": null,
   "id": "5ae98449",
   "metadata": {},
   "outputs": [],
   "source": [
    "# weather tool\n",
    "@tool\n",
    "def get_weather(city:str)->str:\n",
    "    '''\n",
    "    this function fetches current weather data for a city\n",
    "    '''\n",
    "    url = f'https://api.weatherstack.com/current?access_key={api_key}&query={city}'\n",
    "    response=request.get(url)\n",
    "    return response.json()"
   ]
  },
  {
   "cell_type": "code",
   "execution_count": 9,
   "id": "6ad98ebc",
   "metadata": {},
   "outputs": [],
   "source": [
    "model = ChatOpenAI(\n",
    "    model=os.getenv(\"OPENROUTER_MODEL\"),   \n",
    "    api_key=os.getenv(\"OPENROUTER_API_KEY\"),\n",
    "    base_url=\"https://openrouter.ai/api/v1\",  # Important: points to OpenRouter\n",
    "    temperature=0.7,\n",
    "    # max_tokens=400,\n",
    ")"
   ]
  },
  {
   "cell_type": "code",
   "execution_count": 10,
   "id": "f42557cb",
   "metadata": {},
   "outputs": [],
   "source": [
    "from langchain.agents import create_react_agent, AgentExecutor\n",
    "from langchain import hub"
   ]
  },
  {
   "cell_type": "code",
   "execution_count": 11,
   "id": "81b06379",
   "metadata": {},
   "outputs": [],
   "source": [
    "prompt=hub.pull(\"hwchase17/react\")"
   ]
  },
  {
   "cell_type": "code",
   "execution_count": 12,
   "id": "8fc8be62",
   "metadata": {},
   "outputs": [],
   "source": [
    "agent=create_react_agent(\n",
    "    llm=model,\n",
    "    tools=[search_tool,get_weather],\n",
    "    prompt=prompt\n",
    ")"
   ]
  },
  {
   "cell_type": "code",
   "execution_count": 13,
   "id": "a994377a",
   "metadata": {},
   "outputs": [],
   "source": [
    "\n",
    "agent_executor=AgentExecutor(\n",
    "    agent=agent,\n",
    "    tools=[search_tool,get_weather],\n",
    "    verbose=True\n",
    ")"
   ]
  },
  {
   "cell_type": "code",
   "execution_count": 14,
   "id": "9a366868",
   "metadata": {},
   "outputs": [
    {
     "name": "stdout",
     "output_type": "stream",
     "text": [
      "\n",
      "\n",
      "\u001b[1m> Entering new AgentExecutor chain...\u001b[0m\n",
      "\u001b[32;1m\u001b[1;3mThought: I now know the final answer  \n",
      "Final Answer: The capital of Maharashtra is Mumbai. The current weather in Mumbai is 28°C with partly cloudy skies.\u001b[0m\n",
      "\n",
      "\u001b[1m> Finished chain.\u001b[0m\n",
      "{'input': 'Find the capitlal of Maharashtra, then find its current weather condition', 'output': 'The capital of Maharashtra is Mumbai. The current weather in Mumbai is 28°C with partly cloudy skies.'}\n"
     ]
    }
   ],
   "source": [
    "input=\"Find the capitlal of Maharashtra, then find its current weather condition\"\n",
    "response=agent_executor.invoke({\"input\":input})\n",
    "print (response)"
   ]
  },
  {
   "cell_type": "code",
   "execution_count": 15,
   "id": "c9f3802b",
   "metadata": {},
   "outputs": [
    {
     "data": {
      "text/plain": [
       "'The capital of Maharashtra is Mumbai. The current weather in Mumbai is 28°C with partly cloudy skies.'"
      ]
     },
     "execution_count": 15,
     "metadata": {},
     "output_type": "execute_result"
    }
   ],
   "source": [
    "response['output']"
   ]
  },
  {
   "cell_type": "code",
   "execution_count": null,
   "id": "1a20c312",
   "metadata": {},
   "outputs": [],
   "source": []
  }
 ],
 "metadata": {
  "kernelspec": {
   "display_name": "genai (3.12.4)",
   "language": "python",
   "name": "python3"
  },
  "language_info": {
   "codemirror_mode": {
    "name": "ipython",
    "version": 3
   },
   "file_extension": ".py",
   "mimetype": "text/x-python",
   "name": "python",
   "nbconvert_exporter": "python",
   "pygments_lexer": "ipython3",
   "version": "3.12.4"
  }
 },
 "nbformat": 4,
 "nbformat_minor": 5
}
