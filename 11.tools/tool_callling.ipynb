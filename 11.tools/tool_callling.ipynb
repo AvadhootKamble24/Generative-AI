{
 "cells": [
  {
   "cell_type": "code",
   "execution_count": 2,
   "id": "78d4da18",
   "metadata": {},
   "outputs": [
    {
     "data": {
      "text/plain": [
       "True"
      ]
     },
     "execution_count": 2,
     "metadata": {},
     "output_type": "execute_result"
    }
   ],
   "source": [
    "from langchain_openai import ChatOpenAI\n",
    "from langchain_core.tools import tool\n",
    "from langchain_core.messages import HumanMessage\n",
    "import requests\n",
    "from dotenv import load_dotenv\n",
    "load_dotenv()"
   ]
  },
  {
   "cell_type": "code",
   "execution_count": 4,
   "id": "81d03edc",
   "metadata": {},
   "outputs": [],
   "source": [
    "import os\n",
    "model = ChatOpenAI(\n",
    "    model=os.getenv(\"OPENROUTER_MODEL\"),   \n",
    "    api_key=os.getenv(\"OPENROUTER_API_KEY\"),\n",
    "    base_url=\"https://openrouter.ai/api/v1\",  # Important: points to OpenRouter\n",
    "    temperature=0.7,\n",
    "    # max_tokens=400,\n",
    ")"
   ]
  },
  {
   "cell_type": "code",
   "execution_count": 5,
   "id": "b6b5b877",
   "metadata": {},
   "outputs": [],
   "source": [
    "# create tool\n",
    "@tool\n",
    "def multiply(a:int,b:int)->int:\n",
    "    '''Given 2 numbers a and b return their product'''\n",
    "    return a*b"
   ]
  },
  {
   "cell_type": "code",
   "execution_count": 7,
   "id": "acf6a4d2",
   "metadata": {},
   "outputs": [
    {
     "name": "stdout",
     "output_type": "stream",
     "text": [
      "30\n"
     ]
    }
   ],
   "source": [
    "print( multiply.invoke({'a':3,'b':10}))"
   ]
  },
  {
   "cell_type": "code",
   "execution_count": 8,
   "id": "e7c21f6b",
   "metadata": {},
   "outputs": [
    {
     "name": "stdout",
     "output_type": "stream",
     "text": [
      "multiply\n",
      "Given 2 numbers a and b return their product\n",
      "{'a': {'title': 'A', 'type': 'integer'}, 'b': {'title': 'B', 'type': 'integer'}}\n"
     ]
    }
   ],
   "source": [
    "print(multiply.name)\n",
    "print(multiply.description)\n",
    "print(multiply.args)"
   ]
  },
  {
   "cell_type": "code",
   "execution_count": 9,
   "id": "9846aa36",
   "metadata": {},
   "outputs": [
    {
     "data": {
      "text/plain": [
       "AIMessage(content='Hello! How can I assist you today? 😊\\n', additional_kwargs={'refusal': None}, response_metadata={'token_usage': {'completion_tokens': 69, 'prompt_tokens': 14, 'total_tokens': 83, 'completion_tokens_details': None, 'prompt_tokens_details': None}, 'model_name': 'nvidia/nemotron-nano-9b-v2:free', 'system_fingerprint': None, 'id': 'gen-1761745849-1ptFAe4zcbvm4Dd2C3MD', 'service_tier': None, 'finish_reason': 'stop', 'logprobs': None}, id='run--2642f9fa-c241-4f71-8abd-dd5a551e59ab-0', usage_metadata={'input_tokens': 14, 'output_tokens': 69, 'total_tokens': 83, 'input_token_details': {}, 'output_token_details': {}})"
      ]
     },
     "execution_count": 9,
     "metadata": {},
     "output_type": "execute_result"
    }
   ],
   "source": [
    "#tool binding\n",
    "model.invoke(\"hi\")"
   ]
  },
  {
   "cell_type": "code",
   "execution_count": 11,
   "id": "275726f6",
   "metadata": {},
   "outputs": [],
   "source": [
    "llm_with_tool=model.bind_tools([multiply])"
   ]
  },
  {
   "cell_type": "code",
   "execution_count": 12,
   "id": "aebe24b1",
   "metadata": {},
   "outputs": [
    {
     "data": {
      "text/plain": [
       "AIMessage(content=\"Hello! I'm just a virtual assistant, so I don't have feelings, but I'm here and ready to help you with any questions or tasks you have! How can I assist you today? 😊\\n\", additional_kwargs={'refusal': None}, response_metadata={'token_usage': {'completion_tokens': 114, 'prompt_tokens': 243, 'total_tokens': 357, 'completion_tokens_details': None, 'prompt_tokens_details': None}, 'model_name': 'nvidia/nemotron-nano-9b-v2:free', 'system_fingerprint': None, 'id': 'gen-1761745985-bhyZRGQRwIf8IMdfn1W9', 'service_tier': None, 'finish_reason': 'stop', 'logprobs': None}, id='run--34247dc7-b8e9-4765-af55-be426f30b5eb-0', usage_metadata={'input_tokens': 243, 'output_tokens': 114, 'total_tokens': 357, 'input_token_details': {}, 'output_token_details': {}})"
      ]
     },
     "execution_count": 12,
     "metadata": {},
     "output_type": "execute_result"
    }
   ],
   "source": [
    "llm_with_tool.invoke(\"HI how are you\") "
   ]
  },
  {
   "cell_type": "code",
   "execution_count": 16,
   "id": "a9d56236",
   "metadata": {},
   "outputs": [],
   "source": [
    "query=HumanMessage('can you multiply 4 with 20')"
   ]
  },
  {
   "cell_type": "code",
   "execution_count": 17,
   "id": "c28ea2a4",
   "metadata": {},
   "outputs": [],
   "source": [
    "messages=[query]"
   ]
  },
  {
   "cell_type": "code",
   "execution_count": 18,
   "id": "d5635b50",
   "metadata": {},
   "outputs": [
    {
     "data": {
      "text/plain": [
       "[HumanMessage(content='can you multiply 4 with 20', additional_kwargs={}, response_metadata={})]"
      ]
     },
     "execution_count": 18,
     "metadata": {},
     "output_type": "execute_result"
    }
   ],
   "source": [
    "messages"
   ]
  },
  {
   "cell_type": "code",
   "execution_count": 19,
   "id": "dfaf7f95",
   "metadata": {},
   "outputs": [],
   "source": [
    "result=llm_with_tool.invoke(messages) "
   ]
  },
  {
   "cell_type": "code",
   "execution_count": 20,
   "id": "49ab6f15",
   "metadata": {},
   "outputs": [],
   "source": [
    "messages.append(result)"
   ]
  },
  {
   "cell_type": "code",
   "execution_count": 21,
   "id": "6171142e",
   "metadata": {},
   "outputs": [
    {
     "data": {
      "text/plain": [
       "[HumanMessage(content='can you multiply 4 with 20', additional_kwargs={}, response_metadata={}),\n",
       " AIMessage(content='', additional_kwargs={'tool_calls': [{'id': 'mYsORam6n', 'function': {'arguments': '{\"a\": 4, \"b\": 20}', 'name': 'multiply'}, 'type': 'function', 'index': 0}], 'refusal': None}, response_metadata={'token_usage': {'completion_tokens': 109, 'prompt_tokens': 248, 'total_tokens': 357, 'completion_tokens_details': None, 'prompt_tokens_details': None}, 'model_name': 'nvidia/nemotron-nano-9b-v2:free', 'system_fingerprint': None, 'id': 'gen-1761746156-rcYmo096656ooq6EWvKD', 'service_tier': None, 'finish_reason': 'tool_calls', 'logprobs': None}, id='run--9cb67476-f9c0-4a47-838e-8d786bc6f3ee-0', tool_calls=[{'name': 'multiply', 'args': {'a': 4, 'b': 20}, 'id': 'mYsORam6n', 'type': 'tool_call'}], usage_metadata={'input_tokens': 248, 'output_tokens': 109, 'total_tokens': 357, 'input_token_details': {}, 'output_token_details': {}})]"
      ]
     },
     "execution_count": 21,
     "metadata": {},
     "output_type": "execute_result"
    }
   ],
   "source": [
    "messages"
   ]
  },
  {
   "cell_type": "code",
   "execution_count": 22,
   "id": "81d56c92",
   "metadata": {},
   "outputs": [],
   "source": [
    "tool_result=multiply.invoke(result.tool_calls[0])"
   ]
  },
  {
   "cell_type": "code",
   "execution_count": 23,
   "id": "c9d0db3e",
   "metadata": {},
   "outputs": [
    {
     "data": {
      "text/plain": [
       "ToolMessage(content='80', name='multiply', tool_call_id='mYsORam6n')"
      ]
     },
     "execution_count": 23,
     "metadata": {},
     "output_type": "execute_result"
    }
   ],
   "source": [
    "tool_result"
   ]
  },
  {
   "cell_type": "code",
   "execution_count": 24,
   "id": "ba239b28",
   "metadata": {},
   "outputs": [],
   "source": [
    "messages.append(tool_result)"
   ]
  },
  {
   "cell_type": "code",
   "execution_count": 25,
   "id": "c35bd5de",
   "metadata": {},
   "outputs": [
    {
     "data": {
      "text/plain": [
       "'The product of 4 and 20 is **80**.\\n'"
      ]
     },
     "execution_count": 25,
     "metadata": {},
     "output_type": "execute_result"
    }
   ],
   "source": [
    "llm_with_tool.invoke(messages).content"
   ]
  },
  {
   "cell_type": "markdown",
   "id": "47cdbab8",
   "metadata": {},
   "source": [
    "Live Currancy Converter"
   ]
  },
  {
   "cell_type": "code",
   "execution_count": null,
   "id": "1027553a",
   "metadata": {},
   "outputs": [],
   "source": []
  }
 ],
 "metadata": {
  "kernelspec": {
   "display_name": "genai (3.12.4)",
   "language": "python",
   "name": "python3"
  },
  "language_info": {
   "codemirror_mode": {
    "name": "ipython",
    "version": 3
   },
   "file_extension": ".py",
   "mimetype": "text/x-python",
   "name": "python",
   "nbconvert_exporter": "python",
   "pygments_lexer": "ipython3",
   "version": "3.12.4"
  }
 },
 "nbformat": 4,
 "nbformat_minor": 5
}
