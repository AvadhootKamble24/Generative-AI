{
  "cells": [
    {
      "cell_type": "code",
      "execution_count": null,
      "metadata": {
        "id": "Cklz8dXiv4PL"
      },
      "outputs": [],
      "source": [
        "import os\n",
        "os.environ[\"HUGGINGFACEHUB_API_TOKEN\"] = "
      ]
    },
    {
      "cell_type": "code",
      "execution_count": 36,
      "metadata": {
        "colab": {
          "base_uri": "https://localhost:8080/"
        },
        "id": "Xz4idHTIwAd2",
        "outputId": "db966703-398b-4c06-bbb3-36a7b36f55b8"
      },
      "outputs": [
        {
          "name": "stdout",
          "output_type": "stream",
          "text": [
            "Requirement already satisfied: langchain in /usr/local/lib/python3.12/dist-packages (0.3.27)\n",
            "Requirement already satisfied: chromadb in /usr/local/lib/python3.12/dist-packages (1.3.0)\n",
            "Requirement already satisfied: faiss-cpu in /usr/local/lib/python3.12/dist-packages (1.12.0)\n",
            "Requirement already satisfied: openai in /usr/local/lib/python3.12/dist-packages (1.109.1)\n",
            "Requirement already satisfied: tiktoken in /usr/local/lib/python3.12/dist-packages (0.12.0)\n",
            "Requirement already satisfied: langchain_openai in /usr/local/lib/python3.12/dist-packages (0.3.35)\n",
            "Requirement already satisfied: langchain-community in /usr/local/lib/python3.12/dist-packages (0.3.31)\n",
            "Requirement already satisfied: wikipedia in /usr/local/lib/python3.12/dist-packages (1.4.0)\n",
            "Requirement already satisfied: langchain_Huggingface in /usr/local/lib/python3.12/dist-packages (0.3.1)\n",
            "Requirement already satisfied: langchain-core<1.0.0,>=0.3.72 in /usr/local/lib/python3.12/dist-packages (from langchain) (0.3.79)\n",
            "Requirement already satisfied: langchain-text-splitters<1.0.0,>=0.3.9 in /usr/local/lib/python3.12/dist-packages (from langchain) (0.3.11)\n",
            "Requirement already satisfied: langsmith>=0.1.17 in /usr/local/lib/python3.12/dist-packages (from langchain) (0.4.38)\n",
            "Requirement already satisfied: pydantic<3.0.0,>=2.7.4 in /usr/local/lib/python3.12/dist-packages (from langchain) (2.11.10)\n",
            "Requirement already satisfied: SQLAlchemy<3,>=1.4 in /usr/local/lib/python3.12/dist-packages (from langchain) (2.0.44)\n",
            "Requirement already satisfied: requests<3,>=2 in /usr/local/lib/python3.12/dist-packages (from langchain) (2.32.5)\n",
            "Requirement already satisfied: PyYAML>=5.3 in /usr/local/lib/python3.12/dist-packages (from langchain) (6.0.3)\n",
            "Requirement already satisfied: build>=1.0.3 in /usr/local/lib/python3.12/dist-packages (from chromadb) (1.3.0)\n",
            "Requirement already satisfied: pybase64>=1.4.1 in /usr/local/lib/python3.12/dist-packages (from chromadb) (1.4.2)\n",
            "Requirement already satisfied: uvicorn>=0.18.3 in /usr/local/lib/python3.12/dist-packages (from uvicorn[standard]>=0.18.3->chromadb) (0.38.0)\n",
            "Requirement already satisfied: numpy>=1.22.5 in /usr/local/lib/python3.12/dist-packages (from chromadb) (2.0.2)\n",
            "Requirement already satisfied: posthog<6.0.0,>=2.4.0 in /usr/local/lib/python3.12/dist-packages (from chromadb) (5.4.0)\n",
            "Requirement already satisfied: typing-extensions>=4.5.0 in /usr/local/lib/python3.12/dist-packages (from chromadb) (4.15.0)\n",
            "Requirement already satisfied: onnxruntime>=1.14.1 in /usr/local/lib/python3.12/dist-packages (from chromadb) (1.23.2)\n",
            "Requirement already satisfied: opentelemetry-api>=1.2.0 in /usr/local/lib/python3.12/dist-packages (from chromadb) (1.38.0)\n",
            "Requirement already satisfied: opentelemetry-exporter-otlp-proto-grpc>=1.2.0 in /usr/local/lib/python3.12/dist-packages (from chromadb) (1.38.0)\n",
            "Requirement already satisfied: opentelemetry-sdk>=1.2.0 in /usr/local/lib/python3.12/dist-packages (from chromadb) (1.38.0)\n",
            "Requirement already satisfied: tokenizers>=0.13.2 in /usr/local/lib/python3.12/dist-packages (from chromadb) (0.22.1)\n",
            "Requirement already satisfied: pypika>=0.48.9 in /usr/local/lib/python3.12/dist-packages (from chromadb) (0.48.9)\n",
            "Requirement already satisfied: tqdm>=4.65.0 in /usr/local/lib/python3.12/dist-packages (from chromadb) (4.67.1)\n",
            "Requirement already satisfied: overrides>=7.3.1 in /usr/local/lib/python3.12/dist-packages (from chromadb) (7.7.0)\n",
            "Requirement already satisfied: importlib-resources in /usr/local/lib/python3.12/dist-packages (from chromadb) (6.5.2)\n",
            "Requirement already satisfied: grpcio>=1.58.0 in /usr/local/lib/python3.12/dist-packages (from chromadb) (1.76.0)\n",
            "Requirement already satisfied: bcrypt>=4.0.1 in /usr/local/lib/python3.12/dist-packages (from chromadb) (5.0.0)\n",
            "Requirement already satisfied: typer>=0.9.0 in /usr/local/lib/python3.12/dist-packages (from chromadb) (0.20.0)\n",
            "Requirement already satisfied: kubernetes>=28.1.0 in /usr/local/lib/python3.12/dist-packages (from chromadb) (34.1.0)\n",
            "Requirement already satisfied: tenacity>=8.2.3 in /usr/local/lib/python3.12/dist-packages (from chromadb) (8.5.0)\n",
            "Requirement already satisfied: mmh3>=4.0.1 in /usr/local/lib/python3.12/dist-packages (from chromadb) (5.2.0)\n",
            "Requirement already satisfied: orjson>=3.9.12 in /usr/local/lib/python3.12/dist-packages (from chromadb) (3.11.4)\n",
            "Requirement already satisfied: httpx>=0.27.0 in /usr/local/lib/python3.12/dist-packages (from chromadb) (0.28.1)\n",
            "Requirement already satisfied: rich>=10.11.0 in /usr/local/lib/python3.12/dist-packages (from chromadb) (13.9.4)\n",
            "Requirement already satisfied: jsonschema>=4.19.0 in /usr/local/lib/python3.12/dist-packages (from chromadb) (4.25.1)\n",
            "Requirement already satisfied: packaging in /usr/local/lib/python3.12/dist-packages (from faiss-cpu) (25.0)\n",
            "Requirement already satisfied: anyio<5,>=3.5.0 in /usr/local/lib/python3.12/dist-packages (from openai) (4.11.0)\n",
            "Requirement already satisfied: distro<2,>=1.7.0 in /usr/local/lib/python3.12/dist-packages (from openai) (1.9.0)\n",
            "Requirement already satisfied: jiter<1,>=0.4.0 in /usr/local/lib/python3.12/dist-packages (from openai) (0.11.1)\n",
            "Requirement already satisfied: sniffio in /usr/local/lib/python3.12/dist-packages (from openai) (1.3.1)\n",
            "Requirement already satisfied: regex>=2022.1.18 in /usr/local/lib/python3.12/dist-packages (from tiktoken) (2024.11.6)\n",
            "Requirement already satisfied: aiohttp<4.0.0,>=3.8.3 in /usr/local/lib/python3.12/dist-packages (from langchain-community) (3.13.1)\n",
            "Requirement already satisfied: dataclasses-json<0.7.0,>=0.6.7 in /usr/local/lib/python3.12/dist-packages (from langchain-community) (0.6.7)\n",
            "Requirement already satisfied: pydantic-settings<3.0.0,>=2.10.1 in /usr/local/lib/python3.12/dist-packages (from langchain-community) (2.11.0)\n",
            "Requirement already satisfied: httpx-sse<1.0.0,>=0.4.0 in /usr/local/lib/python3.12/dist-packages (from langchain-community) (0.4.3)\n",
            "Requirement already satisfied: beautifulsoup4 in /usr/local/lib/python3.12/dist-packages (from wikipedia) (4.13.5)\n",
            "Requirement already satisfied: huggingface-hub>=0.33.4 in /usr/local/lib/python3.12/dist-packages (from langchain_Huggingface) (0.36.0)\n",
            "Requirement already satisfied: aiohappyeyeballs>=2.5.0 in /usr/local/lib/python3.12/dist-packages (from aiohttp<4.0.0,>=3.8.3->langchain-community) (2.6.1)\n",
            "Requirement already satisfied: aiosignal>=1.4.0 in /usr/local/lib/python3.12/dist-packages (from aiohttp<4.0.0,>=3.8.3->langchain-community) (1.4.0)\n",
            "Requirement already satisfied: attrs>=17.3.0 in /usr/local/lib/python3.12/dist-packages (from aiohttp<4.0.0,>=3.8.3->langchain-community) (25.4.0)\n",
            "Requirement already satisfied: frozenlist>=1.1.1 in /usr/local/lib/python3.12/dist-packages (from aiohttp<4.0.0,>=3.8.3->langchain-community) (1.8.0)\n",
            "Requirement already satisfied: multidict<7.0,>=4.5 in /usr/local/lib/python3.12/dist-packages (from aiohttp<4.0.0,>=3.8.3->langchain-community) (6.7.0)\n",
            "Requirement already satisfied: propcache>=0.2.0 in /usr/local/lib/python3.12/dist-packages (from aiohttp<4.0.0,>=3.8.3->langchain-community) (0.4.1)\n",
            "Requirement already satisfied: yarl<2.0,>=1.17.0 in /usr/local/lib/python3.12/dist-packages (from aiohttp<4.0.0,>=3.8.3->langchain-community) (1.22.0)\n",
            "Requirement already satisfied: idna>=2.8 in /usr/local/lib/python3.12/dist-packages (from anyio<5,>=3.5.0->openai) (3.11)\n",
            "Requirement already satisfied: pyproject_hooks in /usr/local/lib/python3.12/dist-packages (from build>=1.0.3->chromadb) (1.2.0)\n",
            "Requirement already satisfied: marshmallow<4.0.0,>=3.18.0 in /usr/local/lib/python3.12/dist-packages (from dataclasses-json<0.7.0,>=0.6.7->langchain-community) (3.26.1)\n",
            "Requirement already satisfied: typing-inspect<1,>=0.4.0 in /usr/local/lib/python3.12/dist-packages (from dataclasses-json<0.7.0,>=0.6.7->langchain-community) (0.9.0)\n",
            "Requirement already satisfied: certifi in /usr/local/lib/python3.12/dist-packages (from httpx>=0.27.0->chromadb) (2025.10.5)\n",
            "Requirement already satisfied: httpcore==1.* in /usr/local/lib/python3.12/dist-packages (from httpx>=0.27.0->chromadb) (1.0.9)\n",
            "Requirement already satisfied: h11>=0.16 in /usr/local/lib/python3.12/dist-packages (from httpcore==1.*->httpx>=0.27.0->chromadb) (0.16.0)\n",
            "Requirement already satisfied: filelock in /usr/local/lib/python3.12/dist-packages (from huggingface-hub>=0.33.4->langchain_Huggingface) (3.20.0)\n",
            "Requirement already satisfied: fsspec>=2023.5.0 in /usr/local/lib/python3.12/dist-packages (from huggingface-hub>=0.33.4->langchain_Huggingface) (2025.3.0)\n",
            "Requirement already satisfied: hf-xet<2.0.0,>=1.1.3 in /usr/local/lib/python3.12/dist-packages (from huggingface-hub>=0.33.4->langchain_Huggingface) (1.2.0)\n",
            "Requirement already satisfied: jsonschema-specifications>=2023.03.6 in /usr/local/lib/python3.12/dist-packages (from jsonschema>=4.19.0->chromadb) (2025.9.1)\n",
            "Requirement already satisfied: referencing>=0.28.4 in /usr/local/lib/python3.12/dist-packages (from jsonschema>=4.19.0->chromadb) (0.37.0)\n",
            "Requirement already satisfied: rpds-py>=0.7.1 in /usr/local/lib/python3.12/dist-packages (from jsonschema>=4.19.0->chromadb) (0.28.0)\n",
            "Requirement already satisfied: six>=1.9.0 in /usr/local/lib/python3.12/dist-packages (from kubernetes>=28.1.0->chromadb) (1.17.0)\n",
            "Requirement already satisfied: python-dateutil>=2.5.3 in /usr/local/lib/python3.12/dist-packages (from kubernetes>=28.1.0->chromadb) (2.9.0.post0)\n",
            "Requirement already satisfied: google-auth>=1.0.1 in /usr/local/lib/python3.12/dist-packages (from kubernetes>=28.1.0->chromadb) (2.38.0)\n",
            "Requirement already satisfied: websocket-client!=0.40.0,!=0.41.*,!=0.42.*,>=0.32.0 in /usr/local/lib/python3.12/dist-packages (from kubernetes>=28.1.0->chromadb) (1.9.0)\n",
            "Requirement already satisfied: requests-oauthlib in /usr/local/lib/python3.12/dist-packages (from kubernetes>=28.1.0->chromadb) (2.0.0)\n",
            "Requirement already satisfied: urllib3<2.4.0,>=1.24.2 in /usr/local/lib/python3.12/dist-packages (from kubernetes>=28.1.0->chromadb) (2.3.0)\n",
            "Requirement already satisfied: durationpy>=0.7 in /usr/local/lib/python3.12/dist-packages (from kubernetes>=28.1.0->chromadb) (0.10)\n",
            "Requirement already satisfied: jsonpatch<2.0.0,>=1.33.0 in /usr/local/lib/python3.12/dist-packages (from langchain-core<1.0.0,>=0.3.72->langchain) (1.33)\n",
            "Requirement already satisfied: requests-toolbelt>=1.0.0 in /usr/local/lib/python3.12/dist-packages (from langsmith>=0.1.17->langchain) (1.0.0)\n",
            "Requirement already satisfied: zstandard>=0.23.0 in /usr/local/lib/python3.12/dist-packages (from langsmith>=0.1.17->langchain) (0.25.0)\n",
            "Requirement already satisfied: coloredlogs in /usr/local/lib/python3.12/dist-packages (from onnxruntime>=1.14.1->chromadb) (15.0.1)\n",
            "Requirement already satisfied: flatbuffers in /usr/local/lib/python3.12/dist-packages (from onnxruntime>=1.14.1->chromadb) (25.9.23)\n",
            "Requirement already satisfied: protobuf in /usr/local/lib/python3.12/dist-packages (from onnxruntime>=1.14.1->chromadb) (5.29.5)\n",
            "Requirement already satisfied: sympy in /usr/local/lib/python3.12/dist-packages (from onnxruntime>=1.14.1->chromadb) (1.13.3)\n",
            "Requirement already satisfied: importlib-metadata<8.8.0,>=6.0 in /usr/local/lib/python3.12/dist-packages (from opentelemetry-api>=1.2.0->chromadb) (8.7.0)\n",
            "Requirement already satisfied: googleapis-common-protos~=1.57 in /usr/local/lib/python3.12/dist-packages (from opentelemetry-exporter-otlp-proto-grpc>=1.2.0->chromadb) (1.71.0)\n",
            "Requirement already satisfied: opentelemetry-exporter-otlp-proto-common==1.38.0 in /usr/local/lib/python3.12/dist-packages (from opentelemetry-exporter-otlp-proto-grpc>=1.2.0->chromadb) (1.38.0)\n",
            "Requirement already satisfied: opentelemetry-proto==1.38.0 in /usr/local/lib/python3.12/dist-packages (from opentelemetry-exporter-otlp-proto-grpc>=1.2.0->chromadb) (1.38.0)\n",
            "Requirement already satisfied: opentelemetry-semantic-conventions==0.59b0 in /usr/local/lib/python3.12/dist-packages (from opentelemetry-sdk>=1.2.0->chromadb) (0.59b0)\n",
            "Requirement already satisfied: backoff>=1.10.0 in /usr/local/lib/python3.12/dist-packages (from posthog<6.0.0,>=2.4.0->chromadb) (2.2.1)\n",
            "Requirement already satisfied: annotated-types>=0.6.0 in /usr/local/lib/python3.12/dist-packages (from pydantic<3.0.0,>=2.7.4->langchain) (0.7.0)\n",
            "Requirement already satisfied: pydantic-core==2.33.2 in /usr/local/lib/python3.12/dist-packages (from pydantic<3.0.0,>=2.7.4->langchain) (2.33.2)\n",
            "Requirement already satisfied: typing-inspection>=0.4.0 in /usr/local/lib/python3.12/dist-packages (from pydantic<3.0.0,>=2.7.4->langchain) (0.4.2)\n",
            "Requirement already satisfied: python-dotenv>=0.21.0 in /usr/local/lib/python3.12/dist-packages (from pydantic-settings<3.0.0,>=2.10.1->langchain-community) (1.1.1)\n",
            "Requirement already satisfied: charset_normalizer<4,>=2 in /usr/local/lib/python3.12/dist-packages (from requests<3,>=2->langchain) (3.4.4)\n",
            "Requirement already satisfied: markdown-it-py>=2.2.0 in /usr/local/lib/python3.12/dist-packages (from rich>=10.11.0->chromadb) (4.0.0)\n",
            "Requirement already satisfied: pygments<3.0.0,>=2.13.0 in /usr/local/lib/python3.12/dist-packages (from rich>=10.11.0->chromadb) (2.19.2)\n",
            "Requirement already satisfied: greenlet>=1 in /usr/local/lib/python3.12/dist-packages (from SQLAlchemy<3,>=1.4->langchain) (3.2.4)\n",
            "Requirement already satisfied: click>=8.0.0 in /usr/local/lib/python3.12/dist-packages (from typer>=0.9.0->chromadb) (8.3.0)\n",
            "Requirement already satisfied: shellingham>=1.3.0 in /usr/local/lib/python3.12/dist-packages (from typer>=0.9.0->chromadb) (1.5.4)\n",
            "Requirement already satisfied: httptools>=0.6.3 in /usr/local/lib/python3.12/dist-packages (from uvicorn[standard]>=0.18.3->chromadb) (0.7.1)\n",
            "Requirement already satisfied: uvloop>=0.15.1 in /usr/local/lib/python3.12/dist-packages (from uvicorn[standard]>=0.18.3->chromadb) (0.22.1)\n",
            "Requirement already satisfied: watchfiles>=0.13 in /usr/local/lib/python3.12/dist-packages (from uvicorn[standard]>=0.18.3->chromadb) (1.1.1)\n",
            "Requirement already satisfied: websockets>=10.4 in /usr/local/lib/python3.12/dist-packages (from uvicorn[standard]>=0.18.3->chromadb) (15.0.1)\n",
            "Requirement already satisfied: soupsieve>1.2 in /usr/local/lib/python3.12/dist-packages (from beautifulsoup4->wikipedia) (2.8)\n",
            "Requirement already satisfied: cachetools<6.0,>=2.0.0 in /usr/local/lib/python3.12/dist-packages (from google-auth>=1.0.1->kubernetes>=28.1.0->chromadb) (5.5.2)\n",
            "Requirement already satisfied: pyasn1-modules>=0.2.1 in /usr/local/lib/python3.12/dist-packages (from google-auth>=1.0.1->kubernetes>=28.1.0->chromadb) (0.4.2)\n",
            "Requirement already satisfied: rsa<5,>=3.1.4 in /usr/local/lib/python3.12/dist-packages (from google-auth>=1.0.1->kubernetes>=28.1.0->chromadb) (4.9.1)\n",
            "Requirement already satisfied: zipp>=3.20 in /usr/local/lib/python3.12/dist-packages (from importlib-metadata<8.8.0,>=6.0->opentelemetry-api>=1.2.0->chromadb) (3.23.0)\n",
            "Requirement already satisfied: jsonpointer>=1.9 in /usr/local/lib/python3.12/dist-packages (from jsonpatch<2.0.0,>=1.33.0->langchain-core<1.0.0,>=0.3.72->langchain) (3.0.0)\n",
            "Requirement already satisfied: mdurl~=0.1 in /usr/local/lib/python3.12/dist-packages (from markdown-it-py>=2.2.0->rich>=10.11.0->chromadb) (0.1.2)\n",
            "Requirement already satisfied: mypy-extensions>=0.3.0 in /usr/local/lib/python3.12/dist-packages (from typing-inspect<1,>=0.4.0->dataclasses-json<0.7.0,>=0.6.7->langchain-community) (1.1.0)\n",
            "Requirement already satisfied: humanfriendly>=9.1 in /usr/local/lib/python3.12/dist-packages (from coloredlogs->onnxruntime>=1.14.1->chromadb) (10.0)\n",
            "Requirement already satisfied: oauthlib>=3.0.0 in /usr/local/lib/python3.12/dist-packages (from requests-oauthlib->kubernetes>=28.1.0->chromadb) (3.3.1)\n",
            "Requirement already satisfied: mpmath<1.4,>=1.1.0 in /usr/local/lib/python3.12/dist-packages (from sympy->onnxruntime>=1.14.1->chromadb) (1.3.0)\n",
            "Requirement already satisfied: pyasn1<0.7.0,>=0.6.1 in /usr/local/lib/python3.12/dist-packages (from pyasn1-modules>=0.2.1->google-auth>=1.0.1->kubernetes>=28.1.0->chromadb) (0.6.1)\n"
          ]
        }
      ],
      "source": [
        "!pip install langchain chromadb faiss-cpu openai tiktoken langchain_openai langchain-community wikipedia langchain_Huggingface"
      ]
    },
    {
      "cell_type": "markdown",
      "metadata": {
        "id": "etgiU-tLwDw3"
      },
      "source": [
        "**Wikipedia retriver**"
      ]
    },
    {
      "cell_type": "code",
      "execution_count": 37,
      "metadata": {
        "id": "8gNGZiWEwAbP"
      },
      "outputs": [],
      "source": [
        "from langchain_community.retrievers import WikipediaRetriever"
      ]
    },
    {
      "cell_type": "code",
      "execution_count": 38,
      "metadata": {
        "id": "GRMoPdT_wAYw"
      },
      "outputs": [],
      "source": [
        "retriever=WikipediaRetriever(top_k_results=2,lang='en')"
      ]
    },
    {
      "cell_type": "code",
      "execution_count": 39,
      "metadata": {
        "colab": {
          "base_uri": "https://localhost:8080/"
        },
        "id": "tOViejJgwAWe",
        "outputId": "f247a1a2-e3e3-4a0e-dba1-e0fae1fd7255"
      },
      "outputs": [
        {
          "data": {
            "text/plain": [
              "[Document(metadata={'title': 'No Smoking (2007 film)', 'summary': 'No Smoking is a 2007 Indian Hindi-language surrealist psychological thriller film written and directed by Anurag Kashyap and co-produced by Vishal Bhardwaj and Kumar Mangat Pathak. The film stars John Abraham, Ayesha Takia, Ranvir Shorey and Paresh Rawal in the lead roles, while Bipasha Basu appears in an Item number. The film is loosely based upon the 1978 short story \"Quitters, Inc.\" by Stephen King, which was previously adapted as one of three segments featured in the Hollywood anthology film, Cat\\'s Eye (1985). It became the second Indian film after Julie Ganapathi and the first Hindi-language film to be adapted from Stephen King\\'s work. The story follows K (Abraham), a self-obsessed, narcissist chain smoker who agrees to kick his habit to save his marriage and visits a rehabilitation centre, but is caught in a labyrinth game by Baba Bengali (Rawal), the man who guarantees he will make him quit.\\nThe film released worldwide on 26 October 2007, but was met with a lukewarm response from Indian critics and mixed response from overseas critics. The film did not perform well at the box office either, with a box office gross of ₹3 crore (US$350,000) against a production budget of ₹23 crore (US$2.7 million) and was one of the major disasters of the year. According to Kashyap, the film failed because, it was considered much ahead of its time, courtesy of its dark and unusual storyline comprising with elements of surrealism, fantasy, dream, reality, horror and dark humour leaving critics and cinemagoers baffled.\\nNo Smoking was nominated at several award ceremonies in 2008, primarily for the technical aspects of the film, including three Filmfare Award nominations. Before a full cinematic release in India, the film was invited to be screened at the Rome Film Festival where it won huge appreciation from the audience and critics alike. In 2011, the film was played at several film festivals in India and China, receiving unanimous applause and praise, as well as winning a number of awards.\\n\\n', 'source': 'https://en.wikipedia.org/wiki/No_Smoking_(2007_film)'}, page_content='No Smoking is a 2007 Indian Hindi-language surrealist psychological thriller film written and directed by Anurag Kashyap and co-produced by Vishal Bhardwaj and Kumar Mangat Pathak. The film stars John Abraham, Ayesha Takia, Ranvir Shorey and Paresh Rawal in the lead roles, while Bipasha Basu appears in an Item number. The film is loosely based upon the 1978 short story \"Quitters, Inc.\" by Stephen King, which was previously adapted as one of three segments featured in the Hollywood anthology film, Cat\\'s Eye (1985). It became the second Indian film after Julie Ganapathi and the first Hindi-language film to be adapted from Stephen King\\'s work. The story follows K (Abraham), a self-obsessed, narcissist chain smoker who agrees to kick his habit to save his marriage and visits a rehabilitation centre, but is caught in a labyrinth game by Baba Bengali (Rawal), the man who guarantees he will make him quit.\\nThe film released worldwide on 26 October 2007, but was met with a lukewarm response from Indian critics and mixed response from overseas critics. The film did not perform well at the box office either, with a box office gross of ₹3 crore (US$350,000) against a production budget of ₹23 crore (US$2.7 million) and was one of the major disasters of the year. According to Kashyap, the film failed because, it was considered much ahead of its time, courtesy of its dark and unusual storyline comprising with elements of surrealism, fantasy, dream, reality, horror and dark humour leaving critics and cinemagoers baffled.\\nNo Smoking was nominated at several award ceremonies in 2008, primarily for the technical aspects of the film, including three Filmfare Award nominations. Before a full cinematic release in India, the film was invited to be screened at the Rome Film Festival where it won huge appreciation from the audience and critics alike. In 2011, the film was played at several film festivals in India and China, receiving unanimous applause and praise, as well as winning a number of awards.\\n\\n\\n== Plot ==\\n\\nThe film begins with a man waking up in decrepit old house in an unknown area. He gets a call from his wife inquiring where he is. Unaware of his location, he searches the house for a cigarette. He accidentally opens a room and finds it filled with Russian soldiers. One of them starts chasing him and opens fire at him. He gets shot in the leg and jumps onto a pack of cigarette he finds in the snow, puts it in his mouth and asks the soldier for a matchbox, who in return, shoots him.\\nThe man wakes up in a bathtub. He is revealed to be K, a wealthy businessman in his 30s. He is confident, narcissistic and very arrogant, and also completely addicted to smoking. He smokes almost constantly - at work, at home and even in the bath. K’s friends and family beg him to quit, and friend Abbas and his doctor, offer to set up an appointment at a rehabilitation centre called \\'Prayogshaala\\' (\\'The Laboratory\\'), which they claim will surely rid K of his habit - but K ignores their advice. His addiction puts severe strain on his relationship with his wife Anjali. After  K cannot even make love to her without having to stop to light up a cigarette, she leaves him.\\nFinally realising that he has a problem, K decides to check out Prayogshaala, and meets Shri Shri Prakash Guru Ghantal Baba Bengali Sealdahwale . The centre operates behind the front of another business, \\'Kalkatta Karpets\\'. K finds the building to be unconventional and confusing, similar to a Labyrinth. The method Prayogshaala uses to cure their patients of their addiction is based on fear and psychological manipulation. Each time a patient gives in to their vice, Baba makes sure that something shocking happens to them.\\n\\nAlmost killing a loved one, by keeping him / her in a chamber full of cigarette smoke the person has smoked in his entire life, for a duration of 5 minutes.\\nLosing a finger.\\nDeath of a loved one.\\nTaking the soul of the person from his body, although this offense is described very lo'),\n",
              " Document(metadata={'title': 'Aaron Eckhart', 'summary': \"Aaron Edward Eckhart (born March 12, 1968) is an American actor. Born in Cupertino, California, Eckhart moved to the United Kingdom at an early age. He began his acting career by performing in school plays, before moving to Australia for his high school senior year. He left high school without graduating, but earned a diploma through a professional education course, and then graduated from Brigham Young University (BYU) in Provo, Utah, in 1994 with a Bachelor of Fine Arts  degree in film.\\nAs an undergraduate at BYU, Eckhart met director and writer Neil LaBute, who cast Eckhart in several of LaBute's original plays. Five years later Eckhart made a debut as an unctuous, sociopathic womanizer in LaBute's black comedy film In the Company of Men (1997), followed by appearances in three more of the director's films.\\nEckhart gained wide recognition as George in Erin Brockovich (2000), and, in 2006, he received a Golden Globe nomination for his portrayal of Nick Naylor in Thank You for Smoking. In 2008 he played a major role in Christopher Nolan's blockbuster Batman film The Dark Knight as District Attorney Harvey Dent / Two-Face.\\nHe went on to appear in Love Happens, Rabbit Hole, Battle: Los Angeles, The Rum Diary, Olympus Has Fallen and its sequel, I, Frankenstein, Sully, and Midway.\", 'source': 'https://en.wikipedia.org/wiki/Aaron_Eckhart'}, page_content='Aaron Edward Eckhart (born March 12, 1968) is an American actor. Born in Cupertino, California, Eckhart moved to the United Kingdom at an early age. He began his acting career by performing in school plays, before moving to Australia for his high school senior year. He left high school without graduating, but earned a diploma through a professional education course, and then graduated from Brigham Young University (BYU) in Provo, Utah, in 1994 with a Bachelor of Fine Arts  degree in film.\\nAs an undergraduate at BYU, Eckhart met director and writer Neil LaBute, who cast Eckhart in several of LaBute\\'s original plays. Five years later Eckhart made a debut as an unctuous, sociopathic womanizer in LaBute\\'s black comedy film In the Company of Men (1997), followed by appearances in three more of the director\\'s films.\\nEckhart gained wide recognition as George in Erin Brockovich (2000), and, in 2006, he received a Golden Globe nomination for his portrayal of Nick Naylor in Thank You for Smoking. In 2008 he played a major role in Christopher Nolan\\'s blockbuster Batman film The Dark Knight as District Attorney Harvey Dent / Two-Face.\\nHe went on to appear in Love Happens, Rabbit Hole, Battle: Los Angeles, The Rum Diary, Olympus Has Fallen and its sequel, I, Frankenstein, Sully, and Midway.\\n\\n\\n== Early life ==\\nEckhart was born on March 12, 1968 in Cupertino, California, the son of Mary Martha Lawrence, a writer, painter and poet, and James Conrad Eckhart, a computer executive. He is the youngest of three brothers. His father is of Volga German descent, while his mother has English, German, Scots-Irish, and Scottish ancestry. He was raised as a member of the Church of Jesus Christ of Latter-day Saints, and served a two-year mission in France and Switzerland. Eckhart\\'s family relocated to the United Kingdom in 1981, following his father\\'s job in information technology. During their time in the United Kingdom, the family moved around Surrey, England, living in towns such as Cobham, Ripley, and Walton-on-Thames. Eckhart attended American Community School, where he was first introduced to acting, starring in a school production as Charlie Brown.\\nIn 1985, Eckhart moved to Australia and settled in Sydney, where he attended American International School of Sydney for his high school senior year; he further developed his acting skills in productions like Waiting for Godot, where he admits that he gave a \"terrible\" performance. In the autumn of his senior year, Eckhart left school to take a job at the Warringah Mall movie theater. He eventually earned his diploma through a professional education course. This also allowed Eckhart time to enjoy a year of surfing in Hawaii and France, as well as skiing in the Alps. In 1988, Eckhart returned to the United States and enrolled as a film major at Brigham Young University–Hawaii, but later transferred to Brigham Young University (BYU) in Provo, Utah. He graduated in 1994 with a Bachelor of Fine Arts degree. He also studied acting at the William Esper Studio.\\n\\n\\n== Career ==\\n\\n\\n=== Early work ===\\nWhile at Brigham Young University, Eckhart appeared in the Mormon-themed film Godly Sorrow, and the role marked his professional debut. At this time he met director/writer Neil LaBute, who cast Eckhart in several of LaBute\\'s original plays. After graduating from BYU, Eckhart moved to New York City, acquired an agent, and took various occasional jobs, including bartending, bus driving, and construction work. His first television roles were in commercials. In 1994, he appeared as an extra on the television drama series Beverly Hills, 90210. Eckhart followed this small part with roles in documentary re-enactments (Ancient Secrets of the Bible: Samson), made-for-television movies, and short-lived programs like Aliens in the Family.\\nIn 1997, Eckhart was approached by Neil LaBute to star in a film adaptation of LaBute\\'s stage play In the Company of Men. He played a frustrated white-collar worker who planned to woo a deaf off')]"
            ]
          },
          "execution_count": 39,
          "metadata": {},
          "output_type": "execute_result"
        }
      ],
      "source": [
        "query=\"what is the story line of movie No Smoking release year=2007\"\n",
        "docs = retriever.invoke(query)\n",
        "docs"
      ]
    },
    {
      "cell_type": "code",
      "execution_count": 40,
      "metadata": {
        "colab": {
          "base_uri": "https://localhost:8080/"
        },
        "id": "PNtaML4vwAT-",
        "outputId": "e88b0f9e-9b0c-49a2-f19d-ad46dc440023"
      },
      "outputs": [
        {
          "name": "stdout",
          "output_type": "stream",
          "text": [
            "\n",
            "--- Result1---\n",
            "Content:\n",
            "No Smoking is a 2007 Indian Hindi-language surrealist psychological thriller film written and directed by Anurag Kashyap and co-produced by Vishal Bhardwaj and Kumar Mangat Pathak. The film stars John Abraham, Ayesha Takia, Ranvir Shorey and Paresh Rawal in the lead roles, while Bipasha Basu appears in an Item number. The film is loosely based upon the 1978 short story \"Quitters, Inc.\" by Stephen King, which was previously adapted as one of three segments featured in the Hollywood anthology film, Cat's Eye (1985). It became the second Indian film after Julie Ganapathi and the first Hindi-language film to be adapted from Stephen King's work. The story follows K (Abraham), a self-obsessed, narcissist chain smoker who agrees to kick his habit to save his marriage and visits a rehabilitation centre, but is caught in a labyrinth game by Baba Bengali (Rawal), the man who guarantees he will make him quit.\n",
            "The film released worldwide on 26 October 2007, but was met with a lukewarm response from Indian critics and mixed response from overseas critics. The film did not perform well at the box office either, with a box office gross of ₹3 crore (US$350,000) against a production budget of ₹23 crore (US$2.7 million) and was one of the major disasters of the year. According to Kashyap, the film failed because, it was considered much ahead of its time, courtesy of its dark and unusual storyline comprising with elements of surrealism, fantasy, dream, reality, horror and dark humour leaving critics and cinemagoers baffled.\n",
            "No Smoking was nominated at several award ceremonies in 2008, primarily for the technical aspects of the film, including three Filmfare Award nominations. Before a full cinematic release in India, the film was invited to be screened at the Rome Film Festival where it won huge appreciation from the audience and critics alike. In 2011, the film was played at several film festivals in India and China, receiving unanimous applause and praise, as well as winning a number of awards.\n",
            "\n",
            "\n",
            "== Plot ==\n",
            "\n",
            "The film begins with a man waking up in decrepit old house in an unknown area. He gets a call from his wife inquiring where he is. Unaware of his location, he searches the house for a cigarette. He accidentally opens a room and finds it filled with Russian soldiers. One of them starts chasing him and opens fire at him. He gets shot in the leg and jumps onto a pack of cigarette he finds in the snow, puts it in his mouth and asks the soldier for a matchbox, who in return, shoots him.\n",
            "The man wakes up in a bathtub. He is revealed to be K, a wealthy businessman in his 30s. He is confident, narcissistic and very arrogant, and also completely addicted to smoking. He smokes almost constantly - at work, at home and even in the bath. K’s friends and family beg him to quit, and friend Abbas and his doctor, offer to set up an appointment at a rehabilitation centre called 'Prayogshaala' ('The Laboratory'), which they claim will surely rid K of his habit - but K ignores their advice. His addiction puts severe strain on his relationship with his wife Anjali. After  K cannot even make love to her without having to stop to light up a cigarette, she leaves him.\n",
            "Finally realising that he has a problem, K decides to check out Prayogshaala, and meets Shri Shri Prakash Guru Ghantal Baba Bengali Sealdahwale . The centre operates behind the front of another business, 'Kalkatta Karpets'. K finds the building to be unconventional and confusing, similar to a Labyrinth. The method Prayogshaala uses to cure their patients of their addiction is based on fear and psychological manipulation. Each time a patient gives in to their vice, Baba makes sure that something shocking happens to them.\n",
            "\n",
            "Almost killing a loved one, by keeping him / her in a chamber full of cigarette smoke the person has smoked in his entire life, for a duration of 5 minutes.\n",
            "Losing a finger.\n",
            "Death of a loved one.\n",
            "Taking the soul of the person from his body, although this offense is described very lo..\n",
            "\n",
            "--- Result2---\n",
            "Content:\n",
            "Aaron Edward Eckhart (born March 12, 1968) is an American actor. Born in Cupertino, California, Eckhart moved to the United Kingdom at an early age. He began his acting career by performing in school plays, before moving to Australia for his high school senior year. He left high school without graduating, but earned a diploma through a professional education course, and then graduated from Brigham Young University (BYU) in Provo, Utah, in 1994 with a Bachelor of Fine Arts  degree in film.\n",
            "As an undergraduate at BYU, Eckhart met director and writer Neil LaBute, who cast Eckhart in several of LaBute's original plays. Five years later Eckhart made a debut as an unctuous, sociopathic womanizer in LaBute's black comedy film In the Company of Men (1997), followed by appearances in three more of the director's films.\n",
            "Eckhart gained wide recognition as George in Erin Brockovich (2000), and, in 2006, he received a Golden Globe nomination for his portrayal of Nick Naylor in Thank You for Smoking. In 2008 he played a major role in Christopher Nolan's blockbuster Batman film The Dark Knight as District Attorney Harvey Dent / Two-Face.\n",
            "He went on to appear in Love Happens, Rabbit Hole, Battle: Los Angeles, The Rum Diary, Olympus Has Fallen and its sequel, I, Frankenstein, Sully, and Midway.\n",
            "\n",
            "\n",
            "== Early life ==\n",
            "Eckhart was born on March 12, 1968 in Cupertino, California, the son of Mary Martha Lawrence, a writer, painter and poet, and James Conrad Eckhart, a computer executive. He is the youngest of three brothers. His father is of Volga German descent, while his mother has English, German, Scots-Irish, and Scottish ancestry. He was raised as a member of the Church of Jesus Christ of Latter-day Saints, and served a two-year mission in France and Switzerland. Eckhart's family relocated to the United Kingdom in 1981, following his father's job in information technology. During their time in the United Kingdom, the family moved around Surrey, England, living in towns such as Cobham, Ripley, and Walton-on-Thames. Eckhart attended American Community School, where he was first introduced to acting, starring in a school production as Charlie Brown.\n",
            "In 1985, Eckhart moved to Australia and settled in Sydney, where he attended American International School of Sydney for his high school senior year; he further developed his acting skills in productions like Waiting for Godot, where he admits that he gave a \"terrible\" performance. In the autumn of his senior year, Eckhart left school to take a job at the Warringah Mall movie theater. He eventually earned his diploma through a professional education course. This also allowed Eckhart time to enjoy a year of surfing in Hawaii and France, as well as skiing in the Alps. In 1988, Eckhart returned to the United States and enrolled as a film major at Brigham Young University–Hawaii, but later transferred to Brigham Young University (BYU) in Provo, Utah. He graduated in 1994 with a Bachelor of Fine Arts degree. He also studied acting at the William Esper Studio.\n",
            "\n",
            "\n",
            "== Career ==\n",
            "\n",
            "\n",
            "=== Early work ===\n",
            "While at Brigham Young University, Eckhart appeared in the Mormon-themed film Godly Sorrow, and the role marked his professional debut. At this time he met director/writer Neil LaBute, who cast Eckhart in several of LaBute's original plays. After graduating from BYU, Eckhart moved to New York City, acquired an agent, and took various occasional jobs, including bartending, bus driving, and construction work. His first television roles were in commercials. In 1994, he appeared as an extra on the television drama series Beverly Hills, 90210. Eckhart followed this small part with roles in documentary re-enactments (Ancient Secrets of the Bible: Samson), made-for-television movies, and short-lived programs like Aliens in the Family.\n",
            "In 1997, Eckhart was approached by Neil LaBute to star in a film adaptation of LaBute's stage play In the Company of Men. He played a frustrated white-collar worker who planned to woo a deaf off..\n"
          ]
        }
      ],
      "source": [
        "for i,doc in enumerate(docs):\n",
        "  print(f\"\\n--- Result{i+1}---\")\n",
        "  print(f\"Content:\\n{doc.page_content}..\")"
      ]
    },
    {
      "cell_type": "markdown",
      "metadata": {
        "id": "USnexHKq8ZNO"
      },
      "source": [
        "**Vector Store Retriever**"
      ]
    },
    {
      "cell_type": "code",
      "execution_count": 41,
      "metadata": {
        "id": "kozKWvOuwARW"
      },
      "outputs": [],
      "source": [
        "from langchain_community.vectorstores import Chroma\n",
        "from langchain_huggingface import HuggingFaceEndpointEmbeddings\n",
        "from langchain_core.documents import Document"
      ]
    },
    {
      "cell_type": "code",
      "execution_count": 42,
      "metadata": {
        "id": "ZNdjZ_Q_wAO5"
      },
      "outputs": [],
      "source": [
        "documents = [\n",
        "    Document(page_content=\"LangChain helps developers build LLM applications easily.\"),\n",
        "    Document(page_content=\"Chroma is a vector database optimized for LLM-based search.\"),\n",
        "    Document(page_content=\"Embeddings convert text into high-dimensional vectors.\"),\n",
        "    Document(page_content=\"OpenAI provides powerful embedding models.\"),\n",
        "]"
      ]
    },
    {
      "cell_type": "markdown",
      "metadata": {
        "id": "blwp1PheBBBV"
      },
      "source": [
        "embedding model definition\n",
        "\n"
      ]
    },
    {
      "cell_type": "code",
      "execution_count": 44,
      "metadata": {
        "id": "eTRdVCAFwAMQ"
      },
      "outputs": [],
      "source": [
        "embeddings = HuggingFaceEndpointEmbeddings(\n",
        "    model=\"BAAI/bge-m3\",\n",
        "    task=\"feature-extraction\",\n",
        "    huggingfacehub_api_token=api_key,\n",
        ")"
      ]
    },
    {
      "cell_type": "code",
      "execution_count": 45,
      "metadata": {
        "id": "kmdju-GcwAJn"
      },
      "outputs": [],
      "source": [
        "vectorstore=Chroma.from_documents(\n",
        "    documents=documents,\n",
        "    embedding=embeddings,\n",
        "    collection_name=\"my_collection\"\n",
        ")"
      ]
    },
    {
      "cell_type": "code",
      "execution_count": 46,
      "metadata": {
        "id": "3NrkiCVVwAHH"
      },
      "outputs": [],
      "source": [
        "retriver=vectorstore.as_retriever(search_kwargs={'k':2})"
      ]
    },
    {
      "cell_type": "code",
      "execution_count": 47,
      "metadata": {
        "colab": {
          "base_uri": "https://localhost:8080/"
        },
        "id": "x4q1IEZo8Thw",
        "outputId": "7e3d2f1a-b64c-4d0a-da3b-4939e5bb9ca8"
      },
      "outputs": [
        {
          "name": "stdout",
          "output_type": "stream",
          "text": [
            "[Document(metadata={}, page_content='Chroma is a vector database optimized for LLM-based search.'), Document(metadata={}, page_content='Chroma is a vector database optimized for LLM-based search.')]\n"
          ]
        }
      ],
      "source": [
        "query=\"what is Chroma used for?\"\n",
        "results=retriver.invoke(query)\n",
        "print(results)"
      ]
    },
    {
      "cell_type": "code",
      "execution_count": 48,
      "metadata": {
        "colab": {
          "base_uri": "https://localhost:8080/"
        },
        "id": "4L0WeNvy802C",
        "outputId": "7ed828db-638b-4b24-b11e-60863c7403cb"
      },
      "outputs": [
        {
          "name": "stdout",
          "output_type": "stream",
          "text": [
            "\n",
            "--- Result 1 ---\n",
            "Chroma is a vector database optimized for LLM-based search.\n",
            "\n",
            "--- Result 2 ---\n",
            "Chroma is a vector database optimized for LLM-based search.\n"
          ]
        }
      ],
      "source": [
        "for i ,doc in enumerate(results):\n",
        "  print(f\"\\n--- Result {i+1} ---\")\n",
        "  print(doc.page_content)"
      ]
    },
    {
      "cell_type": "code",
      "execution_count": 49,
      "metadata": {
        "colab": {
          "base_uri": "https://localhost:8080/"
        },
        "id": "6J7KYUXp9hd-",
        "outputId": "9b017540-1f0d-4d2e-9c24-dc2c93d61417"
      },
      "outputs": [
        {
          "name": "stdout",
          "output_type": "stream",
          "text": [
            "\n",
            "--- Result 1 ---\n",
            "Chroma is a vector database optimized for LLM-based search.\n",
            "\n",
            "--- Result 2 ---\n",
            "Chroma is a vector database optimized for LLM-based search.\n"
          ]
        }
      ],
      "source": [
        "result=vectorstore.similarity_search(query,k=2)\n",
        "for i,docs in enumerate(result):\n",
        "  print(f\"\\n--- Result {i+1} ---\")\n",
        "  print(doc.page_content)"
      ]
    },
    {
      "cell_type": "markdown",
      "metadata": {
        "id": "x6gJo2fjAVLm"
      },
      "source": [
        "**MMR** Maximum Marginal Retriever\n"
      ]
    },
    {
      "cell_type": "code",
      "execution_count": 50,
      "metadata": {
        "id": "6rVpZQmlAUIF"
      },
      "outputs": [],
      "source": [
        "# Sample documents\n",
        "docs = [\n",
        "    Document(page_content=\"LangChain makes it easy to work with LLMs.\"),\n",
        "    Document(page_content=\"LangChain is used to build LLM based applications.\"),\n",
        "    Document(page_content=\"Chroma is used to store and search document embeddings.\"),\n",
        "    Document(page_content=\"Embeddings are vector representations of text.\"),\n",
        "    Document(page_content=\"MMR helps you get diverse results when doing similarity search.\"),\n",
        "    Document(page_content=\"LangChain supports Chroma, FAISS, Pinecone, and more.\"),\n",
        "]"
      ]
    },
    {
      "cell_type": "code",
      "execution_count": 51,
      "metadata": {
        "id": "ffpJTZVEAUF3"
      },
      "outputs": [],
      "source": [
        "from langchain_community.vectorstores import FAISS"
      ]
    },
    {
      "cell_type": "code",
      "execution_count": 52,
      "metadata": {
        "id": "ghj6nJkUAUDf"
      },
      "outputs": [],
      "source": [
        "vectorstore=FAISS.from_documents(\n",
        "    documents=docs,\n",
        "    embedding=embeddings\n",
        ")\n"
      ]
    },
    {
      "cell_type": "code",
      "execution_count": 53,
      "metadata": {
        "id": "xEpzvc53AUBF"
      },
      "outputs": [],
      "source": [
        "retriever=vectorstore.as_retriever(\n",
        "    search_type=\"mmr\",\n",
        "    search_kwargs={\"k\":3,\"lambda_mult\":0.5}\n",
        ")"
      ]
    },
    {
      "cell_type": "code",
      "execution_count": 54,
      "metadata": {
        "colab": {
          "base_uri": "https://localhost:8080/"
        },
        "id": "VV5d9ieoAT-t",
        "outputId": "a7973d0f-20d6-44a5-81d6-28a69d061880"
      },
      "outputs": [
        {
          "data": {
            "text/plain": [
              "[Document(id='b6f0506e-4f77-4bbb-ab69-54416b543c9b', metadata={}, page_content='LangChain is used to build LLM based applications.'),\n",
              " Document(id='b7ef6ba2-71b7-4886-a472-cf6cce7d408f', metadata={}, page_content='LangChain supports Chroma, FAISS, Pinecone, and more.'),\n",
              " Document(id='827e6de9-1c0a-45e2-b020-7e559b3086ba', metadata={}, page_content='Embeddings are vector representations of text.')]"
            ]
          },
          "execution_count": 54,
          "metadata": {},
          "output_type": "execute_result"
        }
      ],
      "source": [
        "retriever.invoke(\"What is langchain?\")"
      ]
    },
    {
      "cell_type": "markdown",
      "metadata": {
        "id": "97XkxLZlJNsN"
      },
      "source": [
        "## Multiquery Retriever"
      ]
    },
    {
      "cell_type": "code",
      "execution_count": 55,
      "metadata": {
        "id": "dpiQvLAjAT8O"
      },
      "outputs": [],
      "source": [
        "from langchain_openai import ChatOpenAI\n",
        "from langchain.retrievers.multi_query import MultiQueryRetriever"
      ]
    },
    {
      "cell_type": "code",
      "execution_count": 57,
      "metadata": {
        "id": "odIxGHMTAT5n"
      },
      "outputs": [],
      "source": [
        "model = ChatOpenAI(\n",
        "    model=\"nvidia/nemotron-nano-9b-v2:free\",\n",
        "    api_key=api_key,\n",
        "    base_url=\"https://openrouter.ai/api/v1\",  # Important: points to OpenRouter\n",
        "    temperature=0.7,\n",
        "    # max_tokens=400,\n",
        ")"
      ]
    },
    {
      "cell_type": "code",
      "execution_count": 58,
      "metadata": {
        "id": "Asy3a8ZYKHp9"
      },
      "outputs": [],
      "source": [
        "all_docs = [\n",
        "    Document(page_content=\"Regular walking boosts heart health and can reduce symptoms of depression.\", metadata={\"source\": \"H1\"}),\n",
        "    Document(page_content=\"Consuming leafy greens and fruits helps detox the body and improve longevity.\", metadata={\"source\": \"H2\"}),\n",
        "    Document(page_content=\"Deep sleep is crucial for cellular repair and emotional regulation.\", metadata={\"source\": \"H3\"}),\n",
        "    Document(page_content=\"Mindfulness and controlled breathing lower cortisol and improve mental clarity.\", metadata={\"source\": \"H4\"}),\n",
        "    Document(page_content=\"Drinking sufficient water throughout the day helps maintain metabolism and energy.\", metadata={\"source\": \"H5\"}),\n",
        "    Document(page_content=\"The solar energy system in modern homes helps balance electricity demand.\", metadata={\"source\": \"I1\"}),\n",
        "    Document(page_content=\"Python balances readability with power, making it a popular system design language.\", metadata={\"source\": \"I2\"}),\n",
        "    Document(page_content=\"Photosynthesis enables plants to produce energy by converting sunlight.\", metadata={\"source\": \"I3\"}),\n",
        "    Document(page_content=\"The 2022 FIFA World Cup was held in Qatar and drew global energy and excitement.\", metadata={\"source\": \"I4\"}),\n",
        "    Document(page_content=\"Black holes bend spacetime and store immense gravitational energy.\", metadata={\"source\": \"I5\"}),\n",
        "]"
      ]
    },
    {
      "cell_type": "code",
      "execution_count": 59,
      "metadata": {
        "id": "zujaiS6ZAT3G"
      },
      "outputs": [],
      "source": [
        "embeding_model=embeddings\n",
        "vectorstore=FAISS.from_documents(\n",
        "    documents=all_docs,\n",
        "    embedding=embeding_model\n",
        ")"
      ]
    },
    {
      "cell_type": "code",
      "execution_count": 60,
      "metadata": {
        "id": "7h0xxMyqAT0e"
      },
      "outputs": [],
      "source": [
        "similarity_search=vectorstore.as_retriever(\n",
        "    search_type=\"similarity\",\n",
        "    search_kwargs={\"k\":5}\n",
        "    )"
      ]
    },
    {
      "cell_type": "code",
      "execution_count": 61,
      "metadata": {
        "id": "_TL1NuR3PGo5"
      },
      "outputs": [],
      "source": [
        "from re import search\n",
        "multiquery_retriever=MultiQueryRetriever.from_llm(\n",
        "    retriever=vectorstore.as_retriever(search_kwargs={'k':5}),\n",
        "    llm=model,\n",
        ")"
      ]
    },
    {
      "cell_type": "code",
      "execution_count": 62,
      "metadata": {
        "id": "5N7stKIwPoqI"
      },
      "outputs": [],
      "source": [
        "query=\"How to improve energy levels and maintain balance?\""
      ]
    },
    {
      "cell_type": "code",
      "execution_count": 63,
      "metadata": {
        "id": "pmgfX11hPyqW"
      },
      "outputs": [],
      "source": [
        "similarity_result=similarity_search.invoke(query)\n",
        "multiquery_result=multiquery_retriever.invoke(query)"
      ]
    },
    {
      "cell_type": "code",
      "execution_count": 64,
      "metadata": {
        "colab": {
          "base_uri": "https://localhost:8080/"
        },
        "id": "2Ntbgd96QH39",
        "outputId": "3e9744ce-d7c5-4e85-f705-34b7ff749c21"
      },
      "outputs": [
        {
          "name": "stdout",
          "output_type": "stream",
          "text": [
            "\n",
            "--- Result 1 ---\n",
            "Drinking sufficient water throughout the day helps maintain metabolism and energy.\n",
            "\n",
            "--- Result 2 ---\n",
            "The solar energy system in modern homes helps balance electricity demand.\n",
            "\n",
            "--- Result 3 ---\n",
            "Mindfulness and controlled breathing lower cortisol and improve mental clarity.\n",
            "\n",
            "--- Result 4 ---\n",
            "Consuming leafy greens and fruits helps detox the body and improve longevity.\n",
            "\n",
            "--- Result 5 ---\n",
            "Regular walking boosts heart health and can reduce symptoms of depression.\n",
            "******************************************************************************************************************************************************\n",
            "\n",
            "--- Result 1 ---\n",
            "Mindfulness and controlled breathing lower cortisol and improve mental clarity.\n",
            "\n",
            "--- Result 2 ---\n",
            "Regular walking boosts heart health and can reduce symptoms of depression.\n",
            "\n",
            "--- Result 3 ---\n",
            "Drinking sufficient water throughout the day helps maintain metabolism and energy.\n",
            "\n",
            "--- Result 4 ---\n",
            "Consuming leafy greens and fruits helps detox the body and improve longevity.\n",
            "\n",
            "--- Result 5 ---\n",
            "Deep sleep is crucial for cellular repair and emotional regulation.\n",
            "\n",
            "--- Result 6 ---\n",
            "The solar energy system in modern homes helps balance electricity demand.\n"
          ]
        }
      ],
      "source": [
        "for i, doc in enumerate(similarity_result):\n",
        "    print(f\"\\n--- Result {i+1} ---\")\n",
        "    print(doc.page_content)\n",
        "\n",
        "print(\"*\"*150)\n",
        "\n",
        "for i, doc in enumerate(multiquery_result):\n",
        "    print(f\"\\n--- Result {i+1} ---\")\n",
        "    print(doc.page_content)"
      ]
    },
    {
      "cell_type": "markdown",
      "metadata": {
        "id": "S4MJ_3gHUZri"
      },
      "source": [
        "**ContextualCompressionRetriever**"
      ]
    },
    {
      "cell_type": "code",
      "execution_count": 65,
      "metadata": {
        "id": "RZnYKqrHRFAF"
      },
      "outputs": [],
      "source": [
        "from langchain.retrievers.contextual_compression import ContextualCompressionRetriever\n",
        "from langchain.retrievers.document_compressors import LLMChainExtractor"
      ]
    },
    {
      "cell_type": "code",
      "execution_count": 66,
      "metadata": {
        "id": "nqKt9wCfRE9d"
      },
      "outputs": [],
      "source": [
        "docs = [\n",
        "    Document(page_content=(\n",
        "        \"\"\"The Grand Canyon is one of the most visited natural wonders in the world.\n",
        "        Photosynthesis is the process by which green plants convert sunlight into energy.\n",
        "        Millions of tourists travel to see it every year. The rocks date back millions of years.\"\"\"\n",
        "    ), metadata={\"source\": \"Doc1\"}),\n",
        "\n",
        "    Document(page_content=(\n",
        "        \"\"\"In medieval Europe, castles were built primarily for defense.\n",
        "        The chlorophyll in plant cells captures sunlight during photosynthesis.\n",
        "        Knights wore armor made of metal. Siege weapons were often used to breach castle walls.\"\"\"\n",
        "    ), metadata={\"source\": \"Doc2\"}),\n",
        "\n",
        "    Document(page_content=(\n",
        "        \"\"\"Basketball was invented by Dr. James Naismith in the late 19th century.\n",
        "        It was originally played with a soccer ball and peach baskets. NBA is now a global league.\"\"\"\n",
        "    ), metadata={\"source\": \"Doc3\"}),\n",
        "\n",
        "    Document(page_content=(\n",
        "        \"\"\"The history of cinema began in the late 1800s. Silent films were the earliest form.\n",
        "        Thomas Edison was among the pioneers. Photosynthesis does not occur in animal cells.\n",
        "        Modern filmmaking involves complex CGI and sound design.\"\"\"\n",
        "    ), metadata={\"source\": \"Doc4\"})\n",
        "]"
      ]
    },
    {
      "cell_type": "code",
      "execution_count": 67,
      "metadata": {
        "id": "mN9A6Q6SRE4F"
      },
      "outputs": [],
      "source": [
        "vectorstore=FAISS.from_documents(\n",
        "    documents=docs,\n",
        "    embedding=embeddings\n",
        ")"
      ]
    },
    {
      "cell_type": "code",
      "execution_count": 73,
      "metadata": {
        "id": "QanZaJUaRE1V"
      },
      "outputs": [],
      "source": [
        "base_retriever=vectorstore.as_retriever(search_kwargs={'k':5})"
      ]
    },
    {
      "cell_type": "code",
      "execution_count": 70,
      "metadata": {
        "id": "_G0kImJTREyV"
      },
      "outputs": [],
      "source": [
        "compressor=LLMChainExtractor.from_llm(model)"
      ]
    },
    {
      "cell_type": "code",
      "execution_count": 75,
      "metadata": {
        "id": "BaGLcJYBiXHv"
      },
      "outputs": [],
      "source": [
        "compression_retriever=ContextualCompressionRetriever(\n",
        "    base_retriever=base_retriever,\n",
        "    base_compressor=compressor\n",
        ")"
      ]
    },
    {
      "cell_type": "code",
      "execution_count": 76,
      "metadata": {
        "id": "JclSPNjmijQF"
      },
      "outputs": [],
      "source": [
        "query=\"what is photosynthesis?\"\n",
        "compressed_results=compression_retriever.invoke(query)"
      ]
    },
    {
      "cell_type": "code",
      "execution_count": 77,
      "metadata": {
        "colab": {
          "base_uri": "https://localhost:8080/"
        },
        "id": "v0lw2JSDi_8p",
        "outputId": "62deb872-4531-4a94-a6b1-659c8c587ccb"
      },
      "outputs": [
        {
          "name": "stdout",
          "output_type": "stream",
          "text": [
            "\n",
            "--- Result 1 ---\n",
            "Extracted relevant parts:  \n",
            "Photosynthesis is the process by which green plants convert sunlight into energy.\n",
            "\n",
            "--- Result 2 ---\n",
            "Photosynthesis does not occur in animal cells.\n",
            "\n",
            "--- Result 3 ---\n",
            "Extracted relevant parts:  \n",
            "\"The chlorophyll in plant cells captures sunlight during photosynthesis.\"\n"
          ]
        }
      ],
      "source": [
        "for i,doc in enumerate(compressed_results):\n",
        "  print(f\"\\n--- Result {i+1} ---\")\n",
        "  print(doc.page_content)"
      ]
    }
  ],
  "metadata": {
    "colab": {
      "provenance": []
    },
    "kernelspec": {
      "display_name": "Python 3",
      "name": "python3"
    },
    "language_info": {
      "name": "python"
    }
  },
  "nbformat": 4,
  "nbformat_minor": 0
}
